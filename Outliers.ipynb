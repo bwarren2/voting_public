{
 "cells": [
  {
   "cell_type": "code",
   "execution_count": 6,
   "metadata": {},
   "outputs": [],
   "source": [
    "import plotly.figure_factory as ff\n",
    "import plotly"
   ]
  },
  {
   "cell_type": "code",
   "execution_count": 8,
   "metadata": {},
   "outputs": [],
   "source": [
    "%store -r df\n",
    "static_dir = \"slides/static/\""
   ]
  },
  {
   "cell_type": "code",
   "execution_count": null,
   "metadata": {},
   "outputs": [],
   "source": [
    "df = df[(df.state_abbr != 'UT') & (df.state_abbr != 'ID')]\n",
    "\n",
    "trace1 = go.Scatter3d(\n",
    "    x=df['percent_white'],\n",
    "    y=df['High School Only or Less, 2012-2016'],\n",
    "    z=df['republican_shift'],\n",
    "    text=df['GEO.display-label'],\n",
    "    mode='markers',\n",
    "    marker=dict(\n",
    "        size=4,\n",
    "        color=np.where(\n",
    "    (df['percent_white']>=35) & (df['republican_shift']>=.38*df['High School Only or Less, 2012-2016']-10), \n",
    "    1, \n",
    "    0\n",
    "),\n",
    "        line=dict(\n",
    "            color='rgba(217, 217, 217, 0.14)',\n",
    "            width=0.5\n",
    "        ),\n",
    "        opacity=0.8,\n",
    "    )\n",
    ")\n",
    "data = [trace1]\n",
    "layout = go.Layout(\n",
    "    margin=dict(\n",
    "        l=0,\n",
    "        r=0,\n",
    "        b=0,\n",
    "        t=0\n",
    "    ),\n",
    "   scene = dict(\n",
    "    aspectmode='cube',\n",
    "    xaxis = dict(title='% White'),\n",
    "    yaxis = dict(title='High School Only or Less, 2012-2016'),\n",
    "    zaxis = dict(title='Republican Shift'),\n",
    "   ),   \n",
    ")\n",
    "fig = go.Figure(data=data, layout=layout)\n",
    "plotly.offline.plot(fig, filename=static_dir+'simple-3d-scatter-colored.html')"
   ]
  },
  {
   "cell_type": "code",
   "execution_count": null,
   "metadata": {},
   "outputs": [],
   "source": [
    "np.where(\n",
    "    (df['percent_white']>=35) & (df['republican_shift']>=.4*df['High School Only or Less, 2012-2016']-10), \n",
    "    1, \n",
    "    0\n",
    ")"
   ]
  },
  {
   "cell_type": "code",
   "execution_count": 9,
   "metadata": {},
   "outputs": [
    {
     "data": {
      "text/plain": [
       "'file:///Users/bwarren/SideProjects/voting/slides/static/outlier_all.html'"
      ]
     },
     "execution_count": 9,
     "metadata": {},
     "output_type": "execute_result"
    }
   ],
   "source": [
    "colorscale = [\n",
    "    '#FFFFFF',\n",
    "    '#FFCFD3',\n",
    "    '#FF9FA8',\n",
    "    '#FF6F7D',\n",
    "    '#FF3F52',\n",
    "    '#FF0F27'\n",
    "]\n",
    "\n",
    "\n",
    "cell_df = df.dropna(subset=['outlier_rshift'])\n",
    "fig = ff.create_choropleth(\n",
    "    fips=cell_df['combined_fips'], \n",
    "    values=cell_df['outlier_rshift'],\n",
    "    binning_endpoints=[5,10,15,20,25],\n",
    "    show_state_data=True,\n",
    "    county_outline={'color': 'rgb(255,255,255)', 'width': 0.5},\n",
    "    colorscale=colorscale,\n",
    "    width=800,\n",
    "#         autocolorscale = False,\n",
    "\n",
    "\n",
    ")\n",
    "fig['layout']['xaxis']['fixedrange'] = False \n",
    "fig['layout']['yaxis']['fixedrange'] = False \n",
    "plotly.offline.plot(fig, filename=static_dir+'outlier_all.html')"
   ]
  },
  {
   "cell_type": "code",
   "execution_count": 11,
   "metadata": {},
   "outputs": [
    {
     "data": {
      "text/plain": [
       "'file:///Users/bwarren/SideProjects/voting/slides/static/outlier_zoom.html'"
      ]
     },
     "execution_count": 11,
     "metadata": {},
     "output_type": "execute_result"
    }
   ],
   "source": [
    "colorscale = [\n",
    "    '#EEE',\n",
    "    '#FFCFD3',\n",
    "    '#FF9FA8',\n",
    "    '#FF6F7D',\n",
    "    '#FF3F52',\n",
    "    '#FF0F27'\n",
    "]\n",
    "states = ['CO', 'WY', 'MO', 'MT', 'ND', 'SD', 'NE', 'KS', 'IA', 'MN', 'WI', 'MI', 'IL', 'IN', 'OH', 'KY']\n",
    "\n",
    "cell_df = df.dropna(subset=['outlier_rshift'])[(df.state_abbr.isin(states))]\n",
    "fig = ff.create_choropleth(\n",
    "    fips=cell_df['combined_fips'], \n",
    "    values=cell_df['outlier_rshift'],\n",
    "    binning_endpoints=[5,10,15,20,25],\n",
    "    show_state_data=True,\n",
    "    scope=states,\n",
    "    county_outline={'color': 'rgb(255,255,255)', 'width': 0.5},\n",
    "    colorscale=colorscale,\n",
    "    width=770,\n",
    "#         autocolorscale = False,\n",
    "\n",
    "\n",
    ")\n",
    "fig['layout']['xaxis']['fixedrange'] = False \n",
    "fig['layout']['yaxis']['fixedrange'] = False \n",
    "plotly.offline.plot(fig, filename=static_dir+'outlier_zoom.html')"
   ]
  },
  {
   "cell_type": "code",
   "execution_count": null,
   "metadata": {},
   "outputs": [],
   "source": []
  }
 ],
 "metadata": {
  "kernelspec": {
   "display_name": "Python 3",
   "language": "python",
   "name": "python3"
  },
  "language_info": {
   "codemirror_mode": {
    "name": "ipython",
    "version": 3
   },
   "file_extension": ".py",
   "mimetype": "text/x-python",
   "name": "python",
   "nbconvert_exporter": "python",
   "pygments_lexer": "ipython3",
   "version": "3.7.2"
  }
 },
 "nbformat": 4,
 "nbformat_minor": 2
}
