{
 "cells": [
  {
   "cell_type": "code",
   "execution_count": 3,
   "metadata": {},
   "outputs": [],
   "source": [
    "# Import all the things\n",
    "import pandas as pd\n",
    "import numpy as np\n",
    "import matplotlib.pyplot as plt\n",
    "import plotly\n",
    "import plotly.figure_factory as ff\n",
    "import waterfall_chart\n",
    "import altair as alt\n",
    "from vega_datasets import data as vega_data\n",
    "import plotly.plotly as py\n",
    "import plotly.graph_objs as go\n",
    "from itertools import product\n",
    "import colorlover as cl\n",
    "import plotly.figure_factory as ff\n",
    "\n",
    "# General settings\n",
    "pd.options.display.max_rows = 10\n",
    "pd.options.display.max_seq_items = 200\n",
    "\n",
    "static_dir = \"slides/static/\"\n",
    "state_static_dir = \"slides/static/states\""
   ]
  },
  {
   "cell_type": "code",
   "execution_count": 1,
   "metadata": {},
   "outputs": [],
   "source": [
    "%store -r df"
   ]
  },
  {
   "cell_type": "markdown",
   "metadata": {},
   "source": [
    "Let's go state-by-state.  Which ones flipped?\n",
    "\n",
    "Sources: \n",
    "* https://www.nytimes.com/elections/2016/results/president\n",
    "* https://www.nationalpopularvote.com/campaign-events-2016\n",
    "\n",
    "\n",
    "\n",
    "| State | Electoral Votes | Trump Votes | Hillary Votes | Difference |\n",
    "| ---   | ---             | ---         | ---           | ---        |\n",
    "| FL    | 29              | 4,617,886   | 4,504,975     | 112911     |\n",
    "| PA    | 20              | 2,970,733   | 2,926,441     | 44292      |\n",
    "| OH    | 18              | 2,841,005   | 2,394,164     | 446841     |\n",
    "| MI    | 16              | 2,279,543   | 2,268,839     | 10704      |\n",
    "| WI    | 10              | 1,405,284   | 1,382,536     | 22748      |\n",
    "| IA    | 6               | 800,983     | 653,669       | 147314     |\n",
    "\n",
    "\n"
   ]
  },
  {
   "cell_type": "code",
   "execution_count": 7,
   "metadata": {},
   "outputs": [
    {
     "name": "stderr",
     "output_type": "stream",
     "text": [
      "/Users/bwarren/.virtualenvs/voting-bFP2zqbV/lib/python3.7/site-packages/plotly/offline/offline.py:654: UserWarning:\n",
      "\n",
      "Your filename `state_scatter` didn't end with .html. Adding .html to the end of your file.\n",
      "\n"
     ]
    },
    {
     "data": {
      "text/plain": [
       "'file:///Users/bwarren/SideProjects/voting/state_scatter.html'"
      ]
     },
     "execution_count": 7,
     "metadata": {},
     "output_type": "execute_result"
    }
   ],
   "source": [
    "def percent_to_float(val):\n",
    "    return float(val.strip('%'))\n",
    "\n",
    "def strip_star(val):\n",
    "    return val.strip('*')\n",
    "\n",
    "state_df = pd.read_csv('data/state_data.csv', converters={'D Margin 2016':percent_to_float,'D Margin 2012':percent_to_float, 'Margin Shift':percent_to_float, 'State':strip_star})\n",
    "state_df.head()\n",
    "df_flipped = state_df[(state_df['D Margin 2016']<0) & (state_df['D Margin 2012']>0)]\n",
    "df_dem = state_df[(state_df['D Margin 2016']>0) & (state_df['D Margin 2012']>0)]\n",
    "df_rep = state_df[(state_df['D Margin 2016']<0) & (state_df['D Margin 2012']<0)]\n",
    "\n",
    "\n",
    "flipped = go.Scatter(\n",
    "    x = df_flipped['D Margin 2012'],\n",
    "    y = df_flipped['D Margin 2016'],\n",
    "    name = 'Flipped States',\n",
    "    mode = 'markers',\n",
    "    text=df_flipped.State,\n",
    "    marker = dict(\n",
    "        size = 10,\n",
    "        color = 'yellow',\n",
    "        line = dict(\n",
    "            width = 2,\n",
    "            color = 'rgb(0, 0, 0)'\n",
    "        )\n",
    "    )\n",
    ")\n",
    "dem = go.Scatter(\n",
    "    x = df_dem['D Margin 2012'],\n",
    "    y = df_dem['D Margin 2016'],\n",
    "    name = 'Democratic States',\n",
    "    mode = 'markers',\n",
    "    text=df_dem.State,\n",
    "    marker = dict(\n",
    "        size = 10,\n",
    "        color = 'blue',\n",
    "        line = dict(\n",
    "            width = 2,\n",
    "            color = 'rgb(0, 0, 0)'\n",
    "        )\n",
    "    )\n",
    ")\n",
    "rep = go.Scatter(\n",
    "    x = df_rep['D Margin 2012'],\n",
    "    y = df_rep['D Margin 2016'],\n",
    "    name = 'Republican States',\n",
    "    mode = 'markers',\n",
    "    text=df_rep.State,\n",
    "    marker = dict(\n",
    "        size = 10,\n",
    "        color = 'red',\n",
    "        line = dict(\n",
    "            width = 2,\n",
    "            color = 'rgb(0, 0, 0)'\n",
    "        )\n",
    "    )\n",
    ")\n",
    "datarange = np.array([-50, 90])\n",
    "xy = go.Scatter(\n",
    "    x=datarange,\n",
    "    y=datarange,\n",
    "    mode='lines',\n",
    "    marker= dict(color='black'),\n",
    "    name='X=Y'\n",
    ")\n",
    "data = [flipped, dem, rep, xy]\n",
    "\n",
    "layout = dict(title = 'Dem Margin by State, 2012 and 2016',\n",
    "              yaxis = dict(zeroline = False, title='2016 Dem Margin'),\n",
    "              xaxis = dict(zeroline = False, title='2012 Dem Margin'),\n",
    "              width=600,\n",
    "              height=500,\n",
    "             )\n",
    "\n",
    "fig = dict(data=data, layout=layout)\n",
    "\n",
    "# IPython notebook\n",
    "plotly.offline.plot(fig, filename=static_dir+'states/state_scatter.html')\n"
   ]
  },
  {
   "cell_type": "code",
   "execution_count": 10,
   "metadata": {},
   "outputs": [
    {
     "data": {
      "text/plain": [
       "'file:///Users/bwarren/SideProjects/voting/slides/static/states/margin_scatter.html'"
      ]
     },
     "execution_count": 10,
     "metadata": {},
     "output_type": "execute_result"
    }
   ],
   "source": [
    "def percent_to_float(val):\n",
    "    return float(val.strip('%'))\n",
    "\n",
    "def strip_star(val):\n",
    "    return val.strip('*')\n",
    "\n",
    "df_flipped = df[(df['per_gop_2016']>df['per_dem_2016']) & (df['per_gop_2012']<df['per_dem_2012'])]\n",
    "df_dem = df[(df['per_gop_2016']<df['per_dem_2016']) & (df['per_gop_2012']<df['per_dem_2012'])]\n",
    "df_rep = df[(df['per_gop_2016']>df['per_dem_2016']) & (df['per_gop_2012']>df['per_dem_2012'])]\n",
    "df_dem_flip = df[(df['per_gop_2016']<df['per_dem_2016']) & (df['per_gop_2012']>df['per_dem_2012'])]\n",
    "\n",
    "gop_flipped = go.Scatter(\n",
    "    x = df_flipped['dem_vote_change'],\n",
    "    y = df_flipped['rep_vote_change'],\n",
    "    name = 'GOP-Flipped Counties',\n",
    "    mode = 'markers',\n",
    "    text=df_flipped['GEO.display-label'],\n",
    "    marker = dict(\n",
    "        size = 10,\n",
    "        color = 'yellow',\n",
    "        line = dict(\n",
    "            width = 2,\n",
    "            color = 'rgb(0, 0, 0)'\n",
    "        )\n",
    "    )\n",
    ")\n",
    "\n",
    "dem_flipped = go.Scatter(\n",
    "    x = df_dem_flip['dem_vote_change'],\n",
    "    y = df_dem_flip['rep_vote_change'],\n",
    "    name = 'Flipped Counties',\n",
    "    mode = 'markers',\n",
    "    text=df_dem_flip['GEO.display-label'],\n",
    "    marker = dict(\n",
    "        size = 10,\n",
    "        color = 'green',\n",
    "        line = dict(\n",
    "            width = 2,\n",
    "            color = 'rgb(0, 0, 0)'\n",
    "        )\n",
    "    )\n",
    ")\n",
    "dem = go.Scatter(\n",
    "    x = df_dem['dem_vote_change'],\n",
    "    y = df_dem['rep_vote_change'],\n",
    "    name = 'Democratic States',\n",
    "    mode = 'markers',\n",
    "    text=df_dem['GEO.display-label'],\n",
    "    marker = dict(\n",
    "        size = 10,\n",
    "        color = 'blue',\n",
    "        line = dict(\n",
    "            width = 2,\n",
    "            color = 'rgb(0, 0, 0)'\n",
    "        )\n",
    "    )\n",
    ")\n",
    "rep = go.Scatter(\n",
    "    x = df_rep['dem_vote_change'],\n",
    "    y = df_rep['rep_vote_change'],\n",
    "    name = 'Republican States',\n",
    "    mode = 'markers',\n",
    "    text=df_rep['GEO.display-label'],\n",
    "    marker = dict(\n",
    "        size = 10,\n",
    "        color = 'red',\n",
    "        line = dict(\n",
    "            width = 2,\n",
    "            color = 'rgb(0, 0, 0)'\n",
    "        )\n",
    "    )\n",
    ")\n",
    "datarange = np.array([-50, 90])\n",
    "xy = go.Scatter(\n",
    "    x=datarange,\n",
    "    y=datarange,\n",
    "    mode='lines',\n",
    "    marker= dict(color='black'),\n",
    "    name='X=Y'\n",
    ")\n",
    "data = [dem_flipped, gop_flipped, dem, rep, xy]\n",
    "\n",
    "layout = dict(title = 'County Change in Party Vote',\n",
    "              yaxis = dict(zeroline = False, title='GOP Vote Change 2012=>2016, % of 2012'),\n",
    "              xaxis = dict(zeroline = False, title='Dem Vote Change 2012=>2016, % of 2012'),\n",
    "              width=600,\n",
    "              height=500,\n",
    "             )\n",
    "\n",
    "fig = dict(data=data, layout=layout)\n",
    "\n",
    "# IPython notebook\n",
    "plotly.offline.plot(fig, filename=static_dir+'states/margin_scatter.html')\n"
   ]
  },
  {
   "cell_type": "code",
   "execution_count": null,
   "metadata": {},
   "outputs": [],
   "source": [
    "state_df['grouping'] = np.where(state_df.State.isin(['Michigan', 'Wisconsin', 'Iowa', 'Pennsylvania', 'Ohio', 'Florida']), \n",
    "                             state_df['State'],\n",
    "                             'Other'\n",
    "                            )\n",
    "state_df['2016_winner'] = np.where(state_df['D Margin 2016']>0, 'Democrat Won', 'Republican Won')"
   ]
  },
  {
   "cell_type": "code",
   "execution_count": null,
   "metadata": {},
   "outputs": [],
   "source": [
    "stacked_data = state_df.groupby(['2016_winner', 'grouping'])['Electoral Votes'].sum().unstack()\n",
    "stacked_data = stacked_data.fillna(0)[['Other', 'Florida', 'Pennsylvania', 'Ohio', 'Michigan', 'Wisconsin', 'Iowa']]\n",
    "stacked_data.plot(kind='bar', stacked=True)"
   ]
  },
  {
   "cell_type": "code",
   "execution_count": 6,
   "metadata": {},
   "outputs": [
    {
     "data": {
      "text/plain": [
       "'file:///Users/bwarren/SideProjects/voting/slides/static/states/grouping.html'"
      ]
     },
     "execution_count": 6,
     "metadata": {},
     "output_type": "execute_result"
    }
   ],
   "source": [
    "subset = df[['votes_dem_2008','votes_gop_2008', 'votes_dem_2012', 'votes_gop_2012', 'votes_dem_2016', 'votes_gop_2016','votes_oth_2008','votes_oth_2012','votes_oth_2016', 'state_abbr']][df.state_abbr.isin(['MI', 'WI', 'MN', 'IA', 'PA', 'OH', 'FL'])].groupby('state_abbr').sum()\n",
    "\n",
    "trace5 = go.Bar(\n",
    "    x=subset.index,\n",
    "    y=subset['votes_dem_2008'],\n",
    "    name='Dem Votes 2008'\n",
    ")\n",
    "trace6 = go.Bar(\n",
    "    x=subset.index,\n",
    "    y=subset['votes_gop_2008'],\n",
    "    name='GOP Votes 2008'\n",
    ")\n",
    "trace1 = go.Bar(\n",
    "    x=subset.index,\n",
    "    y=subset['votes_dem_2012'],\n",
    "    name='Dem Votes 2012'\n",
    ")\n",
    "trace2 = go.Bar(\n",
    "    x=subset.index,\n",
    "    y=subset['votes_gop_2012'],\n",
    "    name='GOP Votes 2012'\n",
    ")\n",
    "trace3 = go.Bar(\n",
    "    x=subset.index,\n",
    "    y=subset['votes_dem_2016'],\n",
    "    name='Dem Votes 2016'\n",
    ")\n",
    "trace4 = go.Bar(\n",
    "    x=subset.index,\n",
    "    y=subset['votes_gop_2016'],\n",
    "    name='GOP Votes 2016'\n",
    ")\n",
    "trace7 = go.Bar(\n",
    "    x=subset.index,\n",
    "    y=subset['votes_oth_2008'],\n",
    "    name='Other Votes 2008'\n",
    ")\n",
    "trace8 = go.Bar(\n",
    "    x=subset.index,\n",
    "    y=subset['votes_oth_2012'],\n",
    "    name='Other Votes 2012'\n",
    ")\n",
    "trace9 = go.Bar(\n",
    "    x=subset.index,\n",
    "    y=subset['votes_oth_2016'],\n",
    "    name='Other Votes 2016'\n",
    ")\n",
    "data=[trace5, trace6, trace1, trace2, trace3, trace4, trace7, trace8, trace9]\n",
    "layout = go.Layout(barmode='group')\n",
    "fig = go.Figure(data=data, layout=layout)\n",
    "plotly.offline.plot(fig, filename=static_dir+'states/grouping.html')\n",
    "\n"
   ]
  },
  {
   "cell_type": "code",
   "execution_count": 9,
   "metadata": {},
   "outputs": [
    {
     "data": {
      "text/plain": [
       "[42     -34.711588\n",
       " 60     -29.034392\n",
       " 61     -32.423756\n",
       " 65     -39.273927\n",
       " 79     -14.253660\n",
       "           ...    \n",
       " 3046   -29.352566\n",
       " 3054   -30.866949\n",
       " 3101   -27.438653\n",
       " 3102    -4.439981\n",
       " 3105   -29.664143\n",
       " Name: dem_percent_increase, Length: 258, dtype: float64]"
      ]
     },
     "execution_count": 9,
     "metadata": {},
     "output_type": "execute_result"
    }
   ],
   "source": [
    "hist_data"
   ]
  },
  {
   "cell_type": "code",
   "execution_count": 11,
   "metadata": {},
   "outputs": [
    {
     "data": {
      "text/plain": [
       "'file:///Users/bwarren/SideProjects/voting/slides/static/statescheck_distributions.html'"
      ]
     },
     "execution_count": 11,
     "metadata": {},
     "output_type": "execute_result"
    }
   ],
   "source": [
    "states = ['WI', 'MN']\n",
    "vars_to_use = ['rep_percent_increase', 'dem_percent_increase']\n",
    "hist_data = [df[df.state_abbr==state][var] for state in states for var in vars_to_use]\n",
    "group_labels= ['WI R % Change', 'WI D % Change', 'MN R % Change', 'MN D % Change']\n",
    "fig = ff.create_distplot(hist_data, group_labels, bin_size=5)\n",
    "plotly.offline.plot(fig, filename=state_static_dir+'check_distributions.html')"
   ]
  },
  {
   "cell_type": "code",
   "execution_count": null,
   "metadata": {},
   "outputs": [],
   "source": []
  }
 ],
 "metadata": {
  "kernelspec": {
   "display_name": "Python 3",
   "language": "python",
   "name": "python3"
  },
  "language_info": {
   "codemirror_mode": {
    "name": "ipython",
    "version": 3
   },
   "file_extension": ".py",
   "mimetype": "text/x-python",
   "name": "python",
   "nbconvert_exporter": "python",
   "pygments_lexer": "ipython3",
   "version": "3.7.2"
  }
 },
 "nbformat": 4,
 "nbformat_minor": 2
}
