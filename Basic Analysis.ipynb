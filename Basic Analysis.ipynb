{
 "cells": [
  {
   "cell_type": "code",
   "execution_count": 6,
   "metadata": {},
   "outputs": [],
   "source": [
    "# Import all the things\n",
    "import pandas as pd\n",
    "import numpy as np\n",
    "import matplotlib.pyplot as plt\n",
    "import plotly\n",
    "import plotly.figure_factory as ff\n",
    "import waterfall_chart\n",
    "import altair as alt\n",
    "from vega_datasets import data as vega_data\n",
    "import plotly.plotly as py\n",
    "import plotly.graph_objs as go\n",
    "from itertools import product\n",
    "import colorlover as cl\n",
    "\n",
    "\n",
    "# General settings\n",
    "pd.options.display.max_rows = 10\n",
    "pd.options.display.max_seq_items = 200\n",
    "\n",
    "static_dir = \"slides/static/\""
   ]
  },
  {
   "cell_type": "code",
   "execution_count": 8,
   "metadata": {},
   "outputs": [],
   "source": [
    "%store -r df"
   ]
  },
  {
   "cell_type": "markdown",
   "metadata": {},
   "source": [
    "Where did Rep votes come from?\n"
   ]
  },
  {
   "cell_type": "code",
   "execution_count": 9,
   "metadata": {},
   "outputs": [],
   "source": [
    "counties = alt.topo_feature(vega_data.us_10m.url, 'counties')\n",
    "\n",
    "states = alt.topo_feature(vega_data.us_10m.url, 'states')\n",
    "\n",
    "outlines = alt.Chart(states).mark_geoshape(\n",
    "    stroke='black'\n",
    ").project('albersUsa')\n",
    "    \n",
    "colors = alt.Chart(counties).mark_geoshape().encode(\n",
    "    color='per_gop_2016_100%:Q'\n",
    ").transform_lookup(\n",
    "    lookup='id',\n",
    "    from_=alt.LookupData(df, 'id', ['per_gop_2016_100%'])\n",
    ").project(\n",
    "    type='albersUsa'\n",
    ").properties(\n",
    "    width=500,\n",
    "    height=300\n",
    ")\n",
    "colors + outlines \n",
    "chart = colors + outlines \n",
    "chart.save('slides/static/rep_2016.html')"
   ]
  },
  {
   "cell_type": "markdown",
   "metadata": {},
   "source": [
    "Where did Dem votes come from?"
   ]
  },
  {
   "cell_type": "code",
   "execution_count": 10,
   "metadata": {},
   "outputs": [],
   "source": [
    "counties = alt.topo_feature(vega_data.us_10m.url, 'counties')\n",
    "\n",
    "states = alt.topo_feature(vega_data.us_10m.url, 'states')\n",
    "\n",
    "outlines = alt.Chart(states).mark_geoshape(\n",
    "    stroke='black'\n",
    ").project('albersUsa')\n",
    "    \n",
    "colors = alt.Chart(counties).mark_geoshape().encode(\n",
    "    color='per_dem_2016_100%:Q'\n",
    ").transform_lookup(\n",
    "    lookup='id',\n",
    "    from_=alt.LookupData(df, 'id', ['per_dem_2016_100%'])\n",
    ").project(\n",
    "    type='albersUsa'\n",
    ").properties(\n",
    "    width=500,\n",
    "    height=300\n",
    ")\n",
    "colors + outlines \n",
    "chart = colors + outlines \n",
    "chart.save('slides/static/dem_2016.html')"
   ]
  },
  {
   "cell_type": "markdown",
   "metadata": {},
   "source": [
    "Where did Dem turnout change?"
   ]
  },
  {
   "cell_type": "code",
   "execution_count": 11,
   "metadata": {},
   "outputs": [],
   "source": [
    "counties = alt.topo_feature(vega_data.us_10m.url, 'counties')\n",
    "\n",
    "states = alt.topo_feature(vega_data.us_10m.url, 'states')\n",
    "\n",
    "outlines = alt.Chart(states).mark_geoshape(\n",
    "    stroke='black'\n",
    ").project('albersUsa')\n",
    "\n",
    "domain = [df.min()['dem_vote_change'], 0, df.max()['dem_vote_change']]\n",
    "range_ = ['darkred', 'white', 'green']\n",
    "colors = alt.Chart(counties).mark_geoshape().encode(\n",
    "    color=alt.Color('dem_vote_change:Q', scale=alt.Scale(domain=domain, range=range_, type='linear'))\n",
    ").transform_lookup(\n",
    "    lookup='id',\n",
    "    from_=alt.LookupData(df, 'id', ['dem_vote_change'])\n",
    ").project(\n",
    "    type='albersUsa'\n",
    ").properties(\n",
    "    width=500,\n",
    "    height=300\n",
    ")\n",
    "\n",
    "colors + outlines \n",
    "chart = colors + outlines \n",
    "chart.save('slides/static/dem_gain.html')"
   ]
  },
  {
   "cell_type": "markdown",
   "metadata": {},
   "source": [
    "Where did rep turnout change"
   ]
  },
  {
   "cell_type": "code",
   "execution_count": 13,
   "metadata": {},
   "outputs": [],
   "source": [
    "counties = alt.topo_feature(vega_data.us_10m.url, 'counties')\n",
    "\n",
    "states = alt.topo_feature(vega_data.us_10m.url, 'states')\n",
    "\n",
    "outlines = alt.Chart(states).mark_geoshape(\n",
    "    stroke='black'\n",
    ").project('albersUsa')\n",
    "\n",
    "domain = [df.min()['rep_vote_change'], 0, df.max()['rep_vote_change']]\n",
    "range_ = ['darkred', 'white', 'green']\n",
    "colors = alt.Chart(counties).mark_geoshape().encode(\n",
    "    color=alt.Color('rep_vote_change:Q', scale=alt.Scale(domain=domain, range=range_, type='linear'))\n",
    ").transform_lookup(\n",
    "    lookup='id',\n",
    "    from_=alt.LookupData(df, 'id', ['rep_vote_change'])\n",
    ").project(\n",
    "    type='albersUsa'\n",
    ").properties(\n",
    "    width=500,\n",
    "    height=300\n",
    ")\n",
    "\n",
    "colors + outlines \n",
    "chart = colors + outlines \n",
    "chart.save('slides/static/rep_gain.html')"
   ]
  },
  {
   "cell_type": "markdown",
   "metadata": {},
   "source": [
    "Where did counties trend more Republican?"
   ]
  },
  {
   "cell_type": "code",
   "execution_count": 14,
   "metadata": {},
   "outputs": [],
   "source": [
    "counties = alt.topo_feature(vega_data.us_10m.url, 'counties')\n",
    "\n",
    "states = alt.topo_feature(vega_data.us_10m.url, 'states')\n",
    "\n",
    "outlines = alt.Chart(states).mark_geoshape(\n",
    "    stroke='black'\n",
    ").project('albersUsa')\n",
    "\n",
    "domain = [df.min()['republican_shift'], 0, df.max()['republican_shift']]\n",
    "range_ = ['blue', 'white', 'red']\n",
    "colors = alt.Chart(counties).mark_geoshape().encode(\n",
    "    color=alt.Color('republican_shift:Q', scale=alt.Scale(domain=domain, range=range_, type='linear'))\n",
    ").transform_lookup(\n",
    "    lookup='id',\n",
    "    from_=alt.LookupData(df, 'id', ['republican_shift'])\n",
    ").project(\n",
    "    type='albersUsa'\n",
    ").properties(\n",
    "    width=500,\n",
    "    height=300\n",
    ")\n",
    "\n",
    "colors + outlines \n",
    "chart = colors + outlines \n",
    "chart.save('slides/static/rep_shift.html')"
   ]
  },
  {
   "cell_type": "markdown",
   "metadata": {},
   "source": [
    "Where are the Mormon votes"
   ]
  },
  {
   "cell_type": "code",
   "execution_count": 15,
   "metadata": {},
   "outputs": [],
   "source": [
    "counties = alt.topo_feature(vega_data.us_10m.url, 'counties')\n",
    "\n",
    "states = alt.topo_feature(vega_data.us_10m.url, 'states')\n",
    "\n",
    "outlines = alt.Chart(states).mark_geoshape(\n",
    "    stroke='black'\n",
    ").project('albersUsa')\n",
    "    \n",
    "colors = alt.Chart(counties).mark_geoshape().encode(\n",
    "    color='LDSRATE:Q'\n",
    ").transform_lookup(\n",
    "    lookup='id',\n",
    "    from_=alt.LookupData(df.dropna(subset=['LDSRATE']), 'id', ['LDSRATE'])\n",
    ").project(\n",
    "    type='albersUsa'\n",
    ").properties(\n",
    "    width=500,\n",
    "    height=300\n",
    ")\n",
    "colors + outlines \n",
    "chart = colors + outlines \n",
    "chart.save('slides/static/mormons.html')"
   ]
  },
  {
   "cell_type": "markdown",
   "metadata": {},
   "source": [
    "Switching To Basic Scatters"
   ]
  },
  {
   "cell_type": "code",
   "execution_count": null,
   "metadata": {},
   "outputs": [],
   "source": [
    "not_id_ut = df[(df.state_abbr != 'UT') & (df.state_abbr != 'ID')] \n",
    "id_ut = df[(df.state_abbr == 'UT') | (df.state_abbr == 'ID')] \n",
    "trace = go.Scatter(\n",
    "    x=not_id_ut['High School Only or Less, 2012-2016'],\n",
    "    y=not_id_ut['republican_shift'],\n",
    "    text=not_id_ut['GEO.display-label'],\n",
    "    mode = 'markers',\n",
    "    name='NOT ID and UT',\n",
    ")\n",
    "trace2 = go.Scatter(\n",
    "    x=id_ut['High School Only or Less, 2012-2016'],\n",
    "    y=id_ut['republican_shift'],\n",
    "    text=id_ut['GEO.display-label'],\n",
    "    mode = 'markers',\n",
    "    name='ID and UT',\n",
    "\n",
    ")\n",
    "layout = go.Layout(\n",
    "    title='Republican Shift vs Education',\n",
    "    xaxis=dict(title='High School Only or Less, 2012 through 2016'),\n",
    "    yaxis=dict(title='Republican Presidential Vote %, 2016 minus 2012'),\n",
    ")\n",
    "fig = go.Figure(data=[trace, trace2],layout=layout)\n",
    "plotly.offline.plot(fig, filename=static_dir+'education_vs_shift.html')\n"
   ]
  },
  {
   "cell_type": "code",
   "execution_count": null,
   "metadata": {},
   "outputs": [],
   "source": [
    "not_id_ut = df[(df.state_abbr != 'UT') & (df.state_abbr != 'ID')] \n",
    "trace = go.Scatter(\n",
    "    x=not_id_ut['High School Only or Less, 2012-2016'],\n",
    "    y=not_id_ut['republican_shift'],\n",
    "    text=not_id_ut['GEO.display-label'],\n",
    "    mode = 'markers',\n",
    "    name='NOT ID and UT',\n",
    ")\n",
    "layout = go.Layout(\n",
    "    title='Republican Shift vs Education, No ID/UT',\n",
    "    xaxis=dict(title='High School Only or Less, 2012 through 2016'),\n",
    "    yaxis=dict(title='Republican Presidential Vote %, 2016 minus 2012'),\n",
    ")\n",
    "fig = go.Figure(data=[trace],layout=layout)\n",
    "plotly.offline.plot(fig, filename=static_dir+'education_vs_shift_wo_id_ut.html')\n"
   ]
  },
  {
   "cell_type": "code",
   "execution_count": null,
   "metadata": {},
   "outputs": [],
   "source": [
    "not_id_ut = df[(df.state_abbr != 'UT') & (df.state_abbr != 'ID')] \n",
    "trace = go.Scatter(\n",
    "    x=not_id_ut['percent_white'],\n",
    "    y=not_id_ut['republican_shift'],\n",
    "    text=not_id_ut['GEO.display-label'],\n",
    "    mode = 'markers',\n",
    "    name='NOT ID and UT',\n",
    ")\n",
    "layout = go.Layout(\n",
    "    title='Republican Shift vs County Race Composition, No ID/UT',\n",
    "    xaxis=dict(title='Percent of County that is White'),\n",
    "    yaxis=dict(title='Republican Presidential Vote %, 2016 minus 2012'),\n",
    ")\n",
    "fig = go.Figure(data=[trace],layout=layout)\n",
    "plotly.offline.plot(fig, filename=static_dir+'race_vs_shift_wo_id_ut.html')\n"
   ]
  },
  {
   "cell_type": "code",
   "execution_count": null,
   "metadata": {},
   "outputs": [],
   "source": [
    "\n",
    "cell_df = df[(df.state_abbr != 'UT') & (df.state_abbr != 'ID')& (df.total_votes_2016>1000)]\n",
    "trace1 = go.Scatter3d(\n",
    "    x=cell_df['percent_white'],\n",
    "    y=cell_df['High School Only or Less, 2012-2016'],\n",
    "    z=cell_df['republican_shift'],\n",
    "    text=cell_df['GEO.display-label'],\n",
    "    mode='markers',\n",
    "    marker=dict(\n",
    "        size=4,\n",
    "        color=cell_df['Median_Household_Income_2016'],\n",
    "        line=dict(\n",
    "            color='rgba(217, 217, 217, 0.14)',\n",
    "            width=0.5\n",
    "        ),\n",
    "        opacity=0.8,\n",
    "    )\n",
    ")\n",
    "data = [trace1]\n",
    "layout = go.Layout(\n",
    "    margin=dict(\n",
    "        l=0,\n",
    "        r=0,\n",
    "        b=0,\n",
    "        t=0\n",
    "    ),\n",
    "   scene = dict(\n",
    "    aspectmode='cube',\n",
    "    xaxis = dict(title='% White'),\n",
    "    yaxis = dict(title='% High School Only or Less, 2012-2016'),\n",
    "    zaxis = dict(title='Republican Shift (%age Points)'),),       \n",
    ")\n",
    "fig = go.Figure(data=data, layout=layout)\n",
    "plotly.offline.plot(fig, filename='slides/static/race_vs_ed_vs_shift.html')"
   ]
  }
 ],
 "metadata": {
  "kernelspec": {
   "display_name": "Python 3",
   "language": "python",
   "name": "python3"
  },
  "language_info": {
   "codemirror_mode": {
    "name": "ipython",
    "version": 3
   },
   "file_extension": ".py",
   "mimetype": "text/x-python",
   "name": "python",
   "nbconvert_exporter": "python",
   "pygments_lexer": "ipython3",
   "version": "3.7.2"
  }
 },
 "nbformat": 4,
 "nbformat_minor": 2
}
